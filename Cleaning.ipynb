{
 "cells": [
  {
   "cell_type": "code",
   "execution_count": 3,
   "id": "dd3be9af-f449-4975-81d0-621315b579df",
   "metadata": {},
   "outputs": [
    {
     "data": {
      "text/plain": [
       "<bound method NDFrame.head of       Order_ID Gender_Category Product_Line    Product_Name Size  Units_Sold  \\\n",
       "0         2000            Kids     Training     SuperRep Go    M         NaN   \n",
       "1         2001           Women       Soccer   Tiempo Legend    M         3.0   \n",
       "2         2002           Women       Soccer     Premier III    M         4.0   \n",
       "3         2003            Kids    Lifestyle      Blazer Mid    L         NaN   \n",
       "4         2004            Kids      Running  React Infinity   XL         NaN   \n",
       "...        ...             ...          ...             ...  ...         ...   \n",
       "6897      3826             Men    Lifestyle      Waffle One   XL         NaN   \n",
       "6898      3827            Kids       Soccer      Phantom GT    M         2.0   \n",
       "6899      3828             Men   Basketball      Air Jordan   XL         NaN   \n",
       "6900      3829            Kids      Running        Air Zoom    L         NaN   \n",
       "6901      3830            Kids       Soccer      Phantom GT    L         2.0   \n",
       "\n",
       "          MRP  Discount_Applied  Revenue  Order_Date Sales_Channel     Region  \\\n",
       "0         NaN              0.47      0.0    3/9/2024        Online  bengaluru   \n",
       "1     4957.93               NaN      0.0    7/9/2024        Retail        Hyd   \n",
       "2         NaN               NaN      0.0         NaN        Retail     Mumbai   \n",
       "3     9673.57               NaN      0.0   4/10/2024        Online       Pune   \n",
       "4         NaN               NaN      0.0   9/12/2024        Retail      Delhi   \n",
       "...       ...               ...      ...         ...           ...        ...   \n",
       "6897  6598.54               NaN      0.0   8/10/2024        Retail     Mumbai   \n",
       "6898      NaN               NaN      0.0         NaN        Online      Delhi   \n",
       "6899  3208.18               NaN      0.0  12/20/2024        Retail        Hyd   \n",
       "6900  5000.96               NaN      0.0  24-06-2025        Online     Mumbai   \n",
       "6901  3664.10               NaN      0.0    9/4/2024        Retail  Hyderabad   \n",
       "\n",
       "       Profit  \n",
       "0     -770.45  \n",
       "1     -112.53  \n",
       "2     3337.34  \n",
       "3     3376.85  \n",
       "4      187.89  \n",
       "...       ...  \n",
       "6897   314.90  \n",
       "6898  -356.71  \n",
       "6899   103.08  \n",
       "6900  2507.54  \n",
       "6901  3188.23  \n",
       "\n",
       "[6902 rows x 13 columns]>"
      ]
     },
     "execution_count": 3,
     "metadata": {},
     "output_type": "execute_result"
    }
   ],
   "source": [
    "import numpy as np\n",
    "import pandas as pd\n",
    "\n",
    "df = pd.read_csv('Nike_Sales_Uncleaned.csv');\n",
    "df.head"
   ]
  },
  {
   "cell_type": "code",
   "execution_count": 4,
   "id": "158c6f7e-9048-445d-bb6d-f941fd4741a6",
   "metadata": {},
   "outputs": [],
   "source": [
    "#Write your cleaning code here\n",
    "\n",
    "\n",
    "\n",
    "\n",
    "\n"
   ]
  },
  {
   "cell_type": "code",
   "execution_count": 5,
   "id": "813d2c46-b311-4374-8aa0-d939f4bb250e",
   "metadata": {},
   "outputs": [],
   "source": [
    "df.to_csv('Nike_Sales_Cleaned.csv',index=False)"
   ]
  },
  {
   "cell_type": "code",
   "execution_count": null,
   "id": "9838fa76-5788-45a1-8a1c-5ee1326270b9",
   "metadata": {},
   "outputs": [],
   "source": []
  }
 ],
 "metadata": {
  "kernelspec": {
   "display_name": "Python 3 (ipykernel)",
   "language": "python",
   "name": "python3"
  },
  "language_info": {
   "codemirror_mode": {
    "name": "ipython",
    "version": 3
   },
   "file_extension": ".py",
   "mimetype": "text/x-python",
   "name": "python",
   "nbconvert_exporter": "python",
   "pygments_lexer": "ipython3",
   "version": "3.13.3"
  }
 },
 "nbformat": 4,
 "nbformat_minor": 5
}
